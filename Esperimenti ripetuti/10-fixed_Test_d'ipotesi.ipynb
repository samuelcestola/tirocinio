{
 "cells": [
  {
   "cell_type": "code",
   "execution_count": 1,
   "id": "caring-replacement",
   "metadata": {},
   "outputs": [],
   "source": [
    "import pandas as pd\n",
    "import numpy as np\n",
    "from scipy import stats"
   ]
  },
  {
   "cell_type": "code",
   "execution_count": 2,
   "id": "floating-memphis",
   "metadata": {},
   "outputs": [
    {
     "data": {
      "text/html": [
       "<div>\n",
       "<style scoped>\n",
       "    .dataframe tbody tr th:only-of-type {\n",
       "        vertical-align: middle;\n",
       "    }\n",
       "\n",
       "    .dataframe tbody tr th {\n",
       "        vertical-align: top;\n",
       "    }\n",
       "\n",
       "    .dataframe thead th {\n",
       "        text-align: right;\n",
       "    }\n",
       "</style>\n",
       "<table border=\"1\" class=\"dataframe\">\n",
       "  <thead>\n",
       "    <tr style=\"text-align: right;\">\n",
       "      <th></th>\n",
       "      <th>Segni macro malignità</th>\n",
       "      <th>ADC</th>\n",
       "      <th>TIC type</th>\n",
       "      <th>T2</th>\n",
       "      <th>COD ISTO</th>\n",
       "    </tr>\n",
       "  </thead>\n",
       "  <tbody>\n",
       "    <tr>\n",
       "      <th>0</th>\n",
       "      <td>0</td>\n",
       "      <td>1.60</td>\n",
       "      <td>A</td>\n",
       "      <td>1</td>\n",
       "      <td>3</td>\n",
       "    </tr>\n",
       "    <tr>\n",
       "      <th>1</th>\n",
       "      <td>0</td>\n",
       "      <td>1.00</td>\n",
       "      <td>B</td>\n",
       "      <td>0</td>\n",
       "      <td>4</td>\n",
       "    </tr>\n",
       "    <tr>\n",
       "      <th>2</th>\n",
       "      <td>0</td>\n",
       "      <td>1.20</td>\n",
       "      <td>C</td>\n",
       "      <td>0</td>\n",
       "      <td>3</td>\n",
       "    </tr>\n",
       "    <tr>\n",
       "      <th>3</th>\n",
       "      <td>0</td>\n",
       "      <td>0.77</td>\n",
       "      <td>B</td>\n",
       "      <td>1</td>\n",
       "      <td>4</td>\n",
       "    </tr>\n",
       "    <tr>\n",
       "      <th>4</th>\n",
       "      <td>0</td>\n",
       "      <td>0.80</td>\n",
       "      <td>C</td>\n",
       "      <td>1</td>\n",
       "      <td>1</td>\n",
       "    </tr>\n",
       "    <tr>\n",
       "      <th>5</th>\n",
       "      <td>1</td>\n",
       "      <td>0.70</td>\n",
       "      <td>C</td>\n",
       "      <td>1</td>\n",
       "      <td>1</td>\n",
       "    </tr>\n",
       "    <tr>\n",
       "      <th>6</th>\n",
       "      <td>0</td>\n",
       "      <td>0.90</td>\n",
       "      <td>B</td>\n",
       "      <td>1</td>\n",
       "      <td>4</td>\n",
       "    </tr>\n",
       "    <tr>\n",
       "      <th>7</th>\n",
       "      <td>0</td>\n",
       "      <td>0.70</td>\n",
       "      <td>B</td>\n",
       "      <td>1</td>\n",
       "      <td>4</td>\n",
       "    </tr>\n",
       "    <tr>\n",
       "      <th>8</th>\n",
       "      <td>0</td>\n",
       "      <td>0.80</td>\n",
       "      <td>B</td>\n",
       "      <td>1</td>\n",
       "      <td>4</td>\n",
       "    </tr>\n",
       "    <tr>\n",
       "      <th>9</th>\n",
       "      <td>0</td>\n",
       "      <td>1.40</td>\n",
       "      <td>A</td>\n",
       "      <td>0</td>\n",
       "      <td>3</td>\n",
       "    </tr>\n",
       "  </tbody>\n",
       "</table>\n",
       "</div>"
      ],
      "text/plain": [
       "   Segni macro malignità   ADC TIC type  T2  COD ISTO\n",
       "0                      0  1.60        A   1         3\n",
       "1                      0  1.00        B   0         4\n",
       "2                      0  1.20        C   0         3\n",
       "3                      0  0.77        B   1         4\n",
       "4                      0  0.80        C   1         1\n",
       "5                      1  0.70        C   1         1\n",
       "6                      0  0.90        B   1         4\n",
       "7                      0  0.70        B   1         4\n",
       "8                      0  0.80        B   1         4\n",
       "9                      0  1.40        A   0         3"
      ]
     },
     "execution_count": 2,
     "metadata": {},
     "output_type": "execute_result"
    }
   ],
   "source": [
    "df = pd.read_excel('/home/sam/tirocinio/DB PAROTIDE DEF_corretto.xlsx', sheet_name='Sheet7')\n",
    "df = df.loc[df['ESCLUDERE'] == 0]\n",
    "df.reset_index(inplace = True)\n",
    "df = df.loc[df['COD ISTO'] != 6]\n",
    "df.reset_index(inplace = True)\n",
    "df = df[['Segni macro malignità', 'ADC', 'TIC type', 'T2','COD ISTO']]\n",
    "df['ADC'] = df['ADC'].apply(lambda s: str(s).replace(',', '.')).astype(float)\n",
    "df.head(10)"
   ]
  },
  {
   "cell_type": "code",
   "execution_count": 3,
   "id": "ecological-economy",
   "metadata": {},
   "outputs": [
    {
     "name": "stdout",
     "output_type": "stream",
     "text": [
      "<class 'pandas.core.frame.DataFrame'>\n",
      "RangeIndex: 103 entries, 0 to 102\n",
      "Data columns (total 5 columns):\n",
      " #   Column                 Non-Null Count  Dtype  \n",
      "---  ------                 --------------  -----  \n",
      " 0   Segni macro malignità  103 non-null    int64  \n",
      " 1   ADC                    103 non-null    float64\n",
      " 2   TIC type               103 non-null    object \n",
      " 3   T2                     103 non-null    int64  \n",
      " 4   COD ISTO               103 non-null    int64  \n",
      "dtypes: float64(1), int64(3), object(1)\n",
      "memory usage: 4.1+ KB\n"
     ]
    }
   ],
   "source": [
    "df.info()"
   ]
  },
  {
   "cell_type": "code",
   "execution_count": 4,
   "id": "difficult-investigator",
   "metadata": {},
   "outputs": [
    {
     "data": {
      "text/plain": [
       "3    53\n",
       "4    27\n",
       "1    12\n",
       "5     6\n",
       "2     5\n",
       "Name: COD ISTO, dtype: int64"
      ]
     },
     "execution_count": 4,
     "metadata": {},
     "output_type": "execute_result"
    }
   ],
   "source": [
    "df['COD ISTO'].value_counts()"
   ]
  },
  {
   "cell_type": "code",
   "execution_count": 5,
   "id": "unlike-multiple",
   "metadata": {},
   "outputs": [
    {
     "data": {
      "text/plain": [
       "KruskalResult(statistic=72.34297963883975, pvalue=7.263259102017699e-15)"
      ]
     },
     "execution_count": 5,
     "metadata": {},
     "output_type": "execute_result"
    }
   ],
   "source": [
    "#kruskall wallis su adc-->vedi quello che hai scritto nella parte vecchia\n",
    "gruppo_1 = np.array([value for i, value in enumerate(df['ADC']) if df['COD ISTO'].iloc[i] == 1])\n",
    "gruppo_2 = np.array([value for i, value in enumerate(df['ADC']) if df['COD ISTO'].iloc[i] == 2])\n",
    "gruppo_3 = np.array([value for i, value in enumerate(df['ADC']) if df['COD ISTO'].iloc[i] == 3])\n",
    "gruppo_4 = np.array([value for i, value in enumerate(df['ADC']) if df['COD ISTO'].iloc[i] == 4])\n",
    "gruppo_5 = np.array([value for i, value in enumerate(df['ADC']) if df['COD ISTO'].iloc[i] == 5])\n",
    "stats.kruskal(gruppo_1, gruppo_2, gruppo_3, gruppo_4, gruppo_5)"
   ]
  },
  {
   "cell_type": "code",
   "execution_count": 6,
   "id": "silent-lover",
   "metadata": {},
   "outputs": [
    {
     "data": {
      "text/plain": [
       "KruskalResult(statistic=69.49221476991501, pvalue=5.482584679436209e-15)"
      ]
     },
     "execution_count": 6,
     "metadata": {},
     "output_type": "execute_result"
    }
   ],
   "source": [
    "#senza gruppo 5\n",
    "stats.kruskal(gruppo_1, gruppo_2, gruppo_3, gruppo_4)"
   ]
  },
  {
   "cell_type": "code",
   "execution_count": 7,
   "id": "surgical-diameter",
   "metadata": {},
   "outputs": [
    {
     "data": {
      "text/plain": [
       "KruskalResult(statistic=2.430432557956478, pvalue=0.11900005739824361)"
      ]
     },
     "execution_count": 7,
     "metadata": {},
     "output_type": "execute_result"
    }
   ],
   "source": [
    "#solo tra 1 e 4\n",
    "stats.kruskal(gruppo_1, gruppo_4)"
   ]
  },
  {
   "cell_type": "code",
   "execution_count": 8,
   "id": "bibliographic-filename",
   "metadata": {},
   "outputs": [],
   "source": [
    "#chi square su tic type"
   ]
  },
  {
   "cell_type": "code",
   "execution_count": 9,
   "id": "graphic-difference",
   "metadata": {},
   "outputs": [
    {
     "data": {
      "text/html": [
       "<div>\n",
       "<style scoped>\n",
       "    .dataframe tbody tr th:only-of-type {\n",
       "        vertical-align: middle;\n",
       "    }\n",
       "\n",
       "    .dataframe tbody tr th {\n",
       "        vertical-align: top;\n",
       "    }\n",
       "\n",
       "    .dataframe thead th {\n",
       "        text-align: right;\n",
       "    }\n",
       "</style>\n",
       "<table border=\"1\" class=\"dataframe\">\n",
       "  <thead>\n",
       "    <tr style=\"text-align: right;\">\n",
       "      <th></th>\n",
       "      <th>A</th>\n",
       "      <th>B</th>\n",
       "      <th>C</th>\n",
       "      <th>All</th>\n",
       "    </tr>\n",
       "    <tr>\n",
       "      <th>COD ISTO</th>\n",
       "      <th></th>\n",
       "      <th></th>\n",
       "      <th></th>\n",
       "      <th></th>\n",
       "    </tr>\n",
       "  </thead>\n",
       "  <tbody>\n",
       "    <tr>\n",
       "      <th>1</th>\n",
       "      <td>0</td>\n",
       "      <td>0</td>\n",
       "      <td>12</td>\n",
       "      <td>12</td>\n",
       "    </tr>\n",
       "    <tr>\n",
       "      <th>2</th>\n",
       "      <td>0</td>\n",
       "      <td>3</td>\n",
       "      <td>2</td>\n",
       "      <td>5</td>\n",
       "    </tr>\n",
       "    <tr>\n",
       "      <th>3</th>\n",
       "      <td>41</td>\n",
       "      <td>0</td>\n",
       "      <td>12</td>\n",
       "      <td>53</td>\n",
       "    </tr>\n",
       "    <tr>\n",
       "      <th>4</th>\n",
       "      <td>0</td>\n",
       "      <td>27</td>\n",
       "      <td>0</td>\n",
       "      <td>27</td>\n",
       "    </tr>\n",
       "    <tr>\n",
       "      <th>5</th>\n",
       "      <td>0</td>\n",
       "      <td>0</td>\n",
       "      <td>6</td>\n",
       "      <td>6</td>\n",
       "    </tr>\n",
       "    <tr>\n",
       "      <th>All</th>\n",
       "      <td>41</td>\n",
       "      <td>30</td>\n",
       "      <td>32</td>\n",
       "      <td>103</td>\n",
       "    </tr>\n",
       "  </tbody>\n",
       "</table>\n",
       "</div>"
      ],
      "text/plain": [
       "           A   B   C  All\n",
       "COD ISTO                 \n",
       "1          0   0  12   12\n",
       "2          0   3   2    5\n",
       "3         41   0  12   53\n",
       "4          0  27   0   27\n",
       "5          0   0   6    6\n",
       "All       41  30  32  103"
      ]
     },
     "execution_count": 9,
     "metadata": {},
     "output_type": "execute_result"
    }
   ],
   "source": [
    "#contingency table for chi square test on TIC type\n",
    "\n",
    "#questa tabella non verrà impiegata per il test, è solo per visualizzazione\n",
    "contingency_table_TIC = pd.crosstab(index = df['COD ISTO'],\n",
    "                                     columns = df['TIC type'],\n",
    "                                     colnames = [''],\n",
    "                                     margins = True)\n",
    "\n",
    "#l'effettiva tabella impiegata nel test (cambia solo che non sono presenti i valori marginali)\n",
    "cont_TIC = pd.crosstab(index = df['COD ISTO'],\n",
    "                         columns = df['TIC type'],\n",
    "                         colnames = [''])\n",
    "\n",
    "contingency_table_TIC = contingency_table_TIC.reindex([1,2,3,4,5, 'All'])\n",
    "cont_TIC = cont_TIC.reindex([1,2,3,4,5])\n",
    "contingency_table_TIC"
   ]
  },
  {
   "cell_type": "code",
   "execution_count": 10,
   "id": "velvet-flooring",
   "metadata": {},
   "outputs": [
    {
     "name": "stdout",
     "output_type": "stream",
     "text": [
      "Expected frequencies\n",
      "               A       B       C\n",
      "COD ISTO                        \n",
      "1          4.777   3.495   3.728\n",
      "2          1.990   1.456   1.553\n",
      "3         21.097  15.437  16.466\n",
      "4         10.748   7.864   8.388\n",
      "5          2.388   1.748   1.864\n",
      "\n",
      "Degrees of freedom: 8\n",
      "Chi stat: 144.8170283018868\n",
      "p-value: 2.358923272431205e-27\n",
      "\n"
     ]
    }
   ],
   "source": [
    "#chi square per TIC type tra tutti e 5 i gruppi\n",
    "\n",
    "stat, p, dof, expected = stats.chi2_contingency(cont_TIC)\n",
    "\n",
    "print('Expected frequencies')\n",
    "print(pd.DataFrame(expected,\n",
    "                  index = cont_TIC.index,\n",
    "                  columns = cont_TIC.columns).apply(lambda n: np.round(n,3)))\n",
    "print()\n",
    "print('Degrees of freedom: {}\\nChi stat: {}\\np-value: {}\\n'.format(dof,stat,p))"
   ]
  },
  {
   "cell_type": "code",
   "execution_count": 11,
   "id": "quiet-insurance",
   "metadata": {},
   "outputs": [],
   "source": [
    "#fisher excact\n"
   ]
  },
  {
   "cell_type": "code",
   "execution_count": 12,
   "id": "explicit-publication",
   "metadata": {},
   "outputs": [
    {
     "name": "stdout",
     "output_type": "stream",
     "text": [
      "Help on package FisherExact:\n",
      "\n",
      "NAME\n",
      "    FisherExact\n",
      "\n",
      "DESCRIPTION\n",
      "    # FisherExact Copyright (C) 2016  Emmanuel Noutahi\n",
      "    # This program is free software: you can redistribute it and/or modify\n",
      "    # it under the terms of the GNU General Public License as published by\n",
      "    # the Free Software Foundation, either version 3 of the License, or\n",
      "    # (at your option) any later version.\n",
      "\n",
      "PACKAGE CONTENTS\n",
      "    Fisher\n",
      "    statlib (package)\n",
      "\n",
      "FUNCTIONS\n",
      "    fisher_exact(table, alternative='two-sided', hybrid=False, midP=False, simulate_pval=False, replicate=2000, workspace=300, attempt=3, seed=None)\n",
      "        Performs a Fisher exact test on a mxn contingency table.\n",
      "        Parameters\n",
      "        ----------\n",
      "        table : array_like of ints\n",
      "            A mxn contingency table.  Elements should be non-negative integers.\n",
      "        alternative : {'two-sided', 'less', 'greater'}, optional\n",
      "            Which alternative hypothesis to the null hypothesis the test uses.\n",
      "            Default is 'two-sided'.  Only used in the 2 x 2 case (with the scipy\n",
      "            function). In every other case, the two-sided pval is returned.\n",
      "        mult : int\n",
      "            Specify the size of the workspace used in the network algorithm.\n",
      "            Only used for non-simulated p-values larger than 2 x 2 table.\n",
      "            You might want to increase this if execution failed!\n",
      "        hybrid : bool\n",
      "            Only used for larger than 2 x 2 tables, in which cases it indicates \n",
      "            whether the exact probabilities (default) or a hybrid approximation \n",
      "            thereof should be computed.\n",
      "        midP : bool\n",
      "            Use this to enable mid-P correction. Could lead to slow computation.\n",
      "            This is not applicable for simulation p-values. `alternative` cannot \n",
      "            be used if you enable midpoint correction.\n",
      "        simulate_pval : bool \n",
      "            Indicate whether to compute p-values by Monte Carlo simulation,\n",
      "             in larger than 2 x 2 tables.\n",
      "        replicate : int\n",
      "            An integer specifying the number of replicates used in the MonteCarlo\n",
      "            test.\n",
      "        workspace : int\n",
      "            An integer specifying the workspace size. Default value is 300. \n",
      "        attempt : int\n",
      "            Number of attempts to try, if the workspace size is not enough. \n",
      "            On each attempt, the workspace size is doubled. Default value is 3\n",
      "        seed : int\n",
      "            Random number to use as seed. If a seed isn't provided random.systemrandom\n",
      "            will be used, if this failed the current time will be used.\n",
      "        \n",
      "        Returns\n",
      "        -------\n",
      "        p_value : float\n",
      "            The probability of a more extreme table, where 'extreme' is in a \n",
      "            probabilistic sense.\n",
      "        \n",
      "        Notes\n",
      "        -----\n",
      "        The calculated odds ratio is different from the one R uses. The scipy\n",
      "        implementation returns the (more common) \"unconditional Maximum\n",
      "        Likelihood Estimate\", while R uses the \"conditional Maximum Likelihood\n",
      "        Estimate\".\n",
      "        For tables with large numbers, the (inexact) chi-square test implemented\n",
      "        in the function `chi2_contingency` can also be used.\n",
      "        Examples\n",
      "        --------\n",
      "        Say we spend a few days counting whales and sharks in the Atlantic and\n",
      "        Indian oceans. In the Atlantic ocean we find 8 whales and 1 shark, in the\n",
      "        Indian ocean 2 whales, 5 sharks and in the Pacific 12 whales and 2 sharks.\n",
      "        Then our contingency table is:: \n",
      "                    Atlantic  Indian    Pacific\n",
      "            whales     8        2       12\n",
      "            sharks     1        5       2\n",
      "        We use this table to find the p-value:\n",
      "        >>> from Fisher import fisher_exact\n",
      "        >>> pvalue = fisher_exact([[8, 2, 12], [1, 5, 2]])\n",
      "        >>> pvalue\n",
      "        0.01183...\n",
      "\n",
      "DATA\n",
      "    __all__ = ['fisher_exact']\n",
      "\n",
      "FILE\n",
      "    /home/sam/anaconda3/envs/tirocinio/lib/python3.9/site-packages/FisherExact/__init__.py\n",
      "\n",
      "\n"
     ]
    }
   ],
   "source": [
    "import FisherExact\n",
    "help(FisherExact)"
   ]
  },
  {
   "cell_type": "code",
   "execution_count": 13,
   "id": "collective-waters",
   "metadata": {},
   "outputs": [
    {
     "name": "stdout",
     "output_type": "stream",
     "text": [
      "fisher exact test p-value: 0.0\n"
     ]
    }
   ],
   "source": [
    "#eseguo il fisher exact per TIC_type su tutti e 5 i gruppi\n",
    "\n",
    "p_value = FisherExact.fisher_exact(cont_TIC)\n",
    "print('fisher exact test p-value: {}'.format(p_value))"
   ]
  },
  {
   "cell_type": "code",
   "execution_count": 14,
   "id": "searching-jewelry",
   "metadata": {},
   "outputs": [],
   "source": [
    "#chi square e fisher excat sul t2"
   ]
  },
  {
   "cell_type": "code",
   "execution_count": 15,
   "id": "bored-surprise",
   "metadata": {},
   "outputs": [
    {
     "data": {
      "text/html": [
       "<div>\n",
       "<style scoped>\n",
       "    .dataframe tbody tr th:only-of-type {\n",
       "        vertical-align: middle;\n",
       "    }\n",
       "\n",
       "    .dataframe tbody tr th {\n",
       "        vertical-align: top;\n",
       "    }\n",
       "\n",
       "    .dataframe thead th {\n",
       "        text-align: right;\n",
       "    }\n",
       "</style>\n",
       "<table border=\"1\" class=\"dataframe\">\n",
       "  <thead>\n",
       "    <tr style=\"text-align: right;\">\n",
       "      <th></th>\n",
       "      <th>0</th>\n",
       "      <th>1</th>\n",
       "      <th>All</th>\n",
       "    </tr>\n",
       "    <tr>\n",
       "      <th>COD ISTO</th>\n",
       "      <th></th>\n",
       "      <th></th>\n",
       "      <th></th>\n",
       "    </tr>\n",
       "  </thead>\n",
       "  <tbody>\n",
       "    <tr>\n",
       "      <th>1</th>\n",
       "      <td>1</td>\n",
       "      <td>11</td>\n",
       "      <td>12</td>\n",
       "    </tr>\n",
       "    <tr>\n",
       "      <th>2</th>\n",
       "      <td>2</td>\n",
       "      <td>3</td>\n",
       "      <td>5</td>\n",
       "    </tr>\n",
       "    <tr>\n",
       "      <th>3</th>\n",
       "      <td>37</td>\n",
       "      <td>16</td>\n",
       "      <td>53</td>\n",
       "    </tr>\n",
       "    <tr>\n",
       "      <th>4</th>\n",
       "      <td>4</td>\n",
       "      <td>23</td>\n",
       "      <td>27</td>\n",
       "    </tr>\n",
       "    <tr>\n",
       "      <th>5</th>\n",
       "      <td>5</td>\n",
       "      <td>1</td>\n",
       "      <td>6</td>\n",
       "    </tr>\n",
       "    <tr>\n",
       "      <th>All</th>\n",
       "      <td>49</td>\n",
       "      <td>54</td>\n",
       "      <td>103</td>\n",
       "    </tr>\n",
       "  </tbody>\n",
       "</table>\n",
       "</div>"
      ],
      "text/plain": [
       "           0   1  All\n",
       "COD ISTO             \n",
       "1          1  11   12\n",
       "2          2   3    5\n",
       "3         37  16   53\n",
       "4          4  23   27\n",
       "5          5   1    6\n",
       "All       49  54  103"
      ]
     },
     "execution_count": 15,
     "metadata": {},
     "output_type": "execute_result"
    }
   ],
   "source": [
    "contingency_table_T2 = pd.crosstab(index = df['COD ISTO'],\n",
    "                                     columns = df['T2'],\n",
    "                                     colnames = [''],\n",
    "                                     margins = True)\n",
    "\n",
    "#l'effettiva tabella impiegata nel test (cambia solo che non sono presenti i valori marginali)\n",
    "cont_T2 = pd.crosstab(index = df['COD ISTO'],\n",
    "                         columns = df['T2'],\n",
    "                         colnames = [''])\n",
    "\n",
    "contingency_table_T2 = contingency_table_T2.reindex([1,2,3,4,5, 'All'])\n",
    "cont_T2 = cont_T2.reindex([1,2,3,4,5])\n",
    "contingency_table_T2"
   ]
  },
  {
   "cell_type": "code",
   "execution_count": 16,
   "id": "alive-correspondence",
   "metadata": {},
   "outputs": [
    {
     "name": "stdout",
     "output_type": "stream",
     "text": [
      "Expected frequencies\n",
      "               0       1\n",
      "COD ISTO                \n",
      "1          5.709   6.291\n",
      "2          2.379   2.621\n",
      "3         25.214  27.786\n",
      "4         12.845  14.155\n",
      "5          2.854   3.146\n",
      "\n",
      "Degrees of freedom: 4\n",
      "Chi stat: 32.725524003374154\n",
      "p-value: 1.3594447636085382e-06\n",
      "\n"
     ]
    }
   ],
   "source": [
    "stat, p, dof, expected = stats.chi2_contingency(cont_T2)\n",
    "\n",
    "print('Expected frequencies')\n",
    "print(pd.DataFrame(expected,\n",
    "                  index = cont_T2.index,\n",
    "                  columns = cont_T2.columns).apply(lambda n: np.round(n,3)))\n",
    "print()\n",
    "print('Degrees of freedom: {}\\nChi stat: {}\\np-value: {}\\n'.format(dof,stat,p))"
   ]
  },
  {
   "cell_type": "code",
   "execution_count": 17,
   "id": "promotional-archive",
   "metadata": {},
   "outputs": [
    {
     "name": "stdout",
     "output_type": "stream",
     "text": [
      "fisher exact test p-value: 0.0\n"
     ]
    }
   ],
   "source": [
    "#dovrei usare fisher exact\n",
    "p_value = FisherExact.fisher_exact(cont_T2)\n",
    "print('fisher exact test p-value: {}'.format(p_value))"
   ]
  },
  {
   "cell_type": "code",
   "execution_count": 18,
   "id": "popular-walker",
   "metadata": {},
   "outputs": [
    {
     "data": {
      "text/html": [
       "<div>\n",
       "<style scoped>\n",
       "    .dataframe tbody tr th:only-of-type {\n",
       "        vertical-align: middle;\n",
       "    }\n",
       "\n",
       "    .dataframe tbody tr th {\n",
       "        vertical-align: top;\n",
       "    }\n",
       "\n",
       "    .dataframe thead th {\n",
       "        text-align: right;\n",
       "    }\n",
       "</style>\n",
       "<table border=\"1\" class=\"dataframe\">\n",
       "  <thead>\n",
       "    <tr style=\"text-align: right;\">\n",
       "      <th></th>\n",
       "      <th>0</th>\n",
       "      <th>1</th>\n",
       "      <th>All</th>\n",
       "    </tr>\n",
       "    <tr>\n",
       "      <th>COD ISTO</th>\n",
       "      <th></th>\n",
       "      <th></th>\n",
       "      <th></th>\n",
       "    </tr>\n",
       "  </thead>\n",
       "  <tbody>\n",
       "    <tr>\n",
       "      <th>1</th>\n",
       "      <td>1</td>\n",
       "      <td>11</td>\n",
       "      <td>12</td>\n",
       "    </tr>\n",
       "    <tr>\n",
       "      <th>4</th>\n",
       "      <td>4</td>\n",
       "      <td>23</td>\n",
       "      <td>27</td>\n",
       "    </tr>\n",
       "    <tr>\n",
       "      <th>All</th>\n",
       "      <td>5</td>\n",
       "      <td>34</td>\n",
       "      <td>39</td>\n",
       "    </tr>\n",
       "  </tbody>\n",
       "</table>\n",
       "</div>"
      ],
      "text/plain": [
       "          0   1  All\n",
       "COD ISTO            \n",
       "1         1  11   12\n",
       "4         4  23   27\n",
       "All       5  34   39"
      ]
     },
     "execution_count": 18,
     "metadata": {},
     "output_type": "execute_result"
    }
   ],
   "source": [
    "#chi square tra 4 e 1\n",
    "\n",
    "df_alt = df.loc[(df['COD ISTO'] == 1) | (df['COD ISTO'] == 4)]\n",
    "\n",
    "contingency_table_T2_1_4 = pd.crosstab(index = df_alt['COD ISTO'],\n",
    "                                     columns = df_alt['T2'],\n",
    "                                     colnames = [''],\n",
    "                                     margins = True)\n",
    "\n",
    "#l'effettiva tabella impiegata nel test (cambia solo che non sono presenti i valori marginali)\n",
    "cont_T2_1_4 = pd.crosstab(index = df_alt['COD ISTO'],\n",
    "                                     columns = df_alt['T2'],\n",
    "                                     colnames = [''])\n",
    "\n",
    "contingency_table_T2_1_4 = contingency_table_T2_1_4.reindex([1,4,'All'])\n",
    "cont_T2_1_4 = cont_T2_1_4.reindex([1,4])\n",
    "contingency_table_T2_1_4"
   ]
  },
  {
   "cell_type": "code",
   "execution_count": 19,
   "id": "loose-monitor",
   "metadata": {},
   "outputs": [
    {
     "name": "stdout",
     "output_type": "stream",
     "text": [
      "Expected frequencies\n",
      "              0       1\n",
      "COD ISTO               \n",
      "1         1.538  10.462\n",
      "4         3.462  23.538\n",
      "\n",
      "Degrees of freedom: 1\n",
      "Chi stat: 0.0015931372549019664\n",
      "p-value: 0.9681615911503386\n",
      "\n"
     ]
    }
   ],
   "source": [
    "stat, p, dof, expected = stats.chi2_contingency(cont_T2_1_4)\n",
    "\n",
    "print('Expected frequencies')\n",
    "print(pd.DataFrame(expected,\n",
    "                  index = cont_T2_1_4.index,\n",
    "                  columns = cont_T2_1_4.columns).apply(lambda n: np.round(n,3)))\n",
    "print()\n",
    "print('Degrees of freedom: {}\\nChi stat: {}\\np-value: {}\\n'.format(dof,stat,p))"
   ]
  },
  {
   "cell_type": "code",
   "execution_count": 20,
   "id": "medium-norman",
   "metadata": {},
   "outputs": [
    {
     "name": "stdout",
     "output_type": "stream",
     "text": [
      "fisher exact test p-value: 1.0\n"
     ]
    }
   ],
   "source": [
    "#uso fisher e.\n",
    "\n",
    "#applico fisher exact implementato in scipy\n",
    "oddr, p_value = stats.fisher_exact(cont_T2_1_4)\n",
    "print('fisher exact test p-value: {}'.format(p_value))\n"
   ]
  },
  {
   "cell_type": "code",
   "execution_count": 21,
   "id": "cooperative-solomon",
   "metadata": {},
   "outputs": [
    {
     "name": "stdout",
     "output_type": "stream",
     "text": [
      "fisher exact test p-value: 1.0\n"
     ]
    }
   ],
   "source": [
    "# applico fisher exact dal paccheto \"non ufficiale\"\n",
    "p_value = FisherExact.fisher_exact(cont_T2_1_4)\n",
    "print('fisher exact test p-value: {}'.format(p_value))"
   ]
  },
  {
   "cell_type": "code",
   "execution_count": 22,
   "id": "dental-tomato",
   "metadata": {},
   "outputs": [
    {
     "data": {
      "text/html": [
       "<div>\n",
       "<style scoped>\n",
       "    .dataframe tbody tr th:only-of-type {\n",
       "        vertical-align: middle;\n",
       "    }\n",
       "\n",
       "    .dataframe tbody tr th {\n",
       "        vertical-align: top;\n",
       "    }\n",
       "\n",
       "    .dataframe thead th {\n",
       "        text-align: right;\n",
       "    }\n",
       "</style>\n",
       "<table border=\"1\" class=\"dataframe\">\n",
       "  <thead>\n",
       "    <tr style=\"text-align: right;\">\n",
       "      <th></th>\n",
       "      <th>0</th>\n",
       "      <th>1</th>\n",
       "      <th>All</th>\n",
       "    </tr>\n",
       "    <tr>\n",
       "      <th>COD ISTO</th>\n",
       "      <th></th>\n",
       "      <th></th>\n",
       "      <th></th>\n",
       "    </tr>\n",
       "  </thead>\n",
       "  <tbody>\n",
       "    <tr>\n",
       "      <th>3</th>\n",
       "      <td>37</td>\n",
       "      <td>16</td>\n",
       "      <td>53</td>\n",
       "    </tr>\n",
       "    <tr>\n",
       "      <th>5</th>\n",
       "      <td>5</td>\n",
       "      <td>1</td>\n",
       "      <td>6</td>\n",
       "    </tr>\n",
       "    <tr>\n",
       "      <th>All</th>\n",
       "      <td>42</td>\n",
       "      <td>17</td>\n",
       "      <td>59</td>\n",
       "    </tr>\n",
       "  </tbody>\n",
       "</table>\n",
       "</div>"
      ],
      "text/plain": [
       "           0   1  All\n",
       "COD ISTO             \n",
       "3         37  16   53\n",
       "5          5   1    6\n",
       "All       42  17   59"
      ]
     },
     "execution_count": 22,
     "metadata": {},
     "output_type": "execute_result"
    }
   ],
   "source": [
    "#chi square tra 3 e 5\n",
    "\n",
    "df_alt = df.loc[(df['COD ISTO'] == 5) | (df['COD ISTO'] == 3)]\n",
    "\n",
    "contingency_table_T2_3_5 = pd.crosstab(index = df_alt['COD ISTO'],\n",
    "                                     columns = df_alt['T2'],\n",
    "                                     colnames = [''],\n",
    "                                     margins = True)\n",
    "\n",
    "#l'effettiva tabella impiegata nel test (cambia solo che non sono presenti i valori marginali)\n",
    "cont_T2_3_5 = pd.crosstab(index = df_alt['COD ISTO'],\n",
    "                                     columns = df_alt['T2'],\n",
    "                                     colnames = [''])\n",
    "\n",
    "contingency_table_T2_3_5 = contingency_table_T2_3_5.reindex([3,5,'All'])\n",
    "cont_T2_3_5 = cont_T2_3_5.reindex([3,5])\n",
    "contingency_table_T2_3_5"
   ]
  },
  {
   "cell_type": "code",
   "execution_count": 23,
   "id": "reverse-jacob",
   "metadata": {},
   "outputs": [
    {
     "name": "stdout",
     "output_type": "stream",
     "text": [
      "Expected frequencies\n",
      "               0       1\n",
      "COD ISTO                \n",
      "3         37.729  15.271\n",
      "5          4.271   1.729\n",
      "\n",
      "Degrees of freedom: 1\n",
      "Chi stat: 0.04735809418106868\n",
      "p-value: 0.8277258629991427\n",
      "\n"
     ]
    }
   ],
   "source": [
    "stat, p, dof, expected = stats.chi2_contingency(cont_T2_3_5)\n",
    "\n",
    "print('Expected frequencies')\n",
    "print(pd.DataFrame(expected,\n",
    "                  index = cont_T2_3_5.index,\n",
    "                  columns = cont_T2_3_5.columns).apply(lambda n: np.round(n,3)))\n",
    "print()\n",
    "print('Degrees of freedom: {}\\nChi stat: {}\\np-value: {}\\n'.format(dof,stat,p))"
   ]
  },
  {
   "cell_type": "code",
   "execution_count": 24,
   "id": "minimal-occasion",
   "metadata": {},
   "outputs": [
    {
     "name": "stdout",
     "output_type": "stream",
     "text": [
      "fisher exact test p-value: 0.6621541633692133\n"
     ]
    }
   ],
   "source": [
    "#applico fisher exact implementato in scipy\n",
    "oddr, p_value = stats.fisher_exact(cont_T2_3_5)\n",
    "print('fisher exact test p-value: {}'.format(p_value))"
   ]
  },
  {
   "cell_type": "code",
   "execution_count": 25,
   "id": "applicable-teach",
   "metadata": {},
   "outputs": [
    {
     "name": "stdout",
     "output_type": "stream",
     "text": [
      "fisher exact test p-value: 0.6621541633692133\n"
     ]
    }
   ],
   "source": [
    "#applico fisher exact non ufficiale\n",
    "\n",
    "p_value = FisherExact.fisher_exact(cont_T2_3_5)\n",
    "print('fisher exact test p-value: {}'.format(p_value))"
   ]
  },
  {
   "cell_type": "code",
   "execution_count": 26,
   "id": "caring-glenn",
   "metadata": {},
   "outputs": [],
   "source": [
    "#i risultati li vedi domani :)"
   ]
  }
 ],
 "metadata": {
  "kernelspec": {
   "display_name": "Python 3",
   "language": "python",
   "name": "python3"
  },
  "language_info": {
   "codemirror_mode": {
    "name": "ipython",
    "version": 3
   },
   "file_extension": ".py",
   "mimetype": "text/x-python",
   "name": "python",
   "nbconvert_exporter": "python",
   "pygments_lexer": "ipython3",
   "version": "3.9.1"
  }
 },
 "nbformat": 4,
 "nbformat_minor": 5
}
